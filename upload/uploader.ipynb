{
 "cells": [
  {
   "cell_type": "code",
   "execution_count": 44,
   "id": "f9f6c905-b8ab-4c9d-80a7-ff07cc4c7ebb",
   "metadata": {},
   "outputs": [
    {
     "name": "stdout",
     "output_type": "stream",
     "text": [
      "absolute file path: /Users/sayyidkhan/Documents/github/selenium_uploader_downloader_python_bot/upload/files_to_upload\n",
      "\n",
      "list of files: 1\n",
      "/Users/sayyidkhan/Documents/github/selenium_uploader_downloader_python_bot/upload/files_to_upload/hello_world.txt\n"
     ]
    },
    {
     "data": {
      "text/plain": [
       "[None]"
      ]
     },
     "execution_count": 44,
     "metadata": {},
     "output_type": "execute_result"
    }
   ],
   "source": [
    "import os\n",
    "from pathlib import Path\n",
    "\n",
    "def get_list_of_files(_dir):\n",
    "    dir_list = os.listdir(data_folder)\n",
    "    \n",
    "    white_list = {\n",
    "        \".ipynb_checkpoints\"\n",
    "    }\n",
    "    \n",
    "    for _dir in dir_list:\n",
    "        if _dir in white_list:\n",
    "            dir_list.remove(_dir)\n",
    "    \n",
    "    return dir_list\n",
    "\n",
    "def append_relative_path_to_file_names(_file_list,_absolute_file_path):\n",
    "    _result_file_list = []\n",
    "    for _index, _file_name in enumerate(_file_list,0):\n",
    "        _result_file_list.append(f\"{_absolute_file_path}/{_file_name}\")\n",
    "    return _result_file_list\n",
    "\n",
    "def move_files(_curr_file_dir,_old_file_dir,_new_file_dir):\n",
    "    _new_curr_file_dir = _curr_file_dir.replace(str(_old_file_dir), str(_new_file_dir))\n",
    "    os.rename(_curr_file_dir, _new_curr_file_dir)\n",
    "\n",
    "relative_file_path = Path('./files_to_upload')\n",
    "absolute_path = os.path.abspath(relative_file_path)\n",
    "file_list = get_list_of_files(relative_file_path)\n",
    "updated_file_list = append_relative_path_to_file_names(file_list, absolute_path)\n",
    "print(f\"absolute file path: {absolute_path}\")\n",
    "print()\n",
    "print(f\"list of files: {len(updated_file_list)}\")\n",
    "[print(x) for x in updated_file_list]\n"
   ]
  },
  {
   "cell_type": "code",
   "execution_count": 39,
   "id": "bc819255-a0fb-49cc-bdfa-99e433961448",
   "metadata": {},
   "outputs": [],
   "source": []
  },
  {
   "cell_type": "code",
   "execution_count": 46,
   "id": "be896362-b3fa-4f91-93e8-0ad7116f63aa",
   "metadata": {},
   "outputs": [
    {
     "name": "stdout",
     "output_type": "stream",
     "text": [
      "successfully processed: hello_world.txt\n"
     ]
    }
   ],
   "source": [
    "from selenium import webdriver\n",
    "from selenium.webdriver.support.ui import WebDriverWait\n",
    "from selenium.webdriver.common.by import By\n",
    "from selenium.webdriver.support import expected_conditions as EC\n",
    "import time\n",
    "\n",
    "# Create a webdriver instance\n",
    "driver = webdriver.Chrome()\n",
    "\n",
    "# Navigate to the webpage with the file upload button\n",
    "website_name = \"https://ps.uci.edu/~franklin/doc/file_upload.html\"\n",
    "driver.get(website_name)\n",
    "\n",
    "\n",
    "def add_files_iteratively(_file_list):\n",
    "    def upload_files(_path_to_file):\n",
    "        # 1. refresh browser\n",
    "        time.sleep(3)\n",
    "        driver.refresh()\n",
    "\n",
    "        # 2. Use the send_keys() method to attach the file to the input field\n",
    "        #file_input = driver.find_element(by=By.XPATH, value=)\n",
    "        file_input = WebDriverWait(driver, 5).until(EC.presence_of_element_located((By.XPATH, '/html/body/form/input[1]')))\n",
    "        file_input.send_keys(_path_to_file)\n",
    "\n",
    "        # Submit the form\n",
    "        submit_button = WebDriverWait(driver, 5).until(EC.presence_of_element_located((By.XPATH, '/html/body/form/input[2]')))\n",
    "    \n",
    "    # loop through all the files \n",
    "    for _file_name in _file_list:\n",
    "        _e_file_name = _file_name[::-1].split(\"/\",1)[0][::-1]\n",
    "        try:\n",
    "            upload_files(_file_name)\n",
    "            print(f\"successfully processed: {_e_file_name}\")\n",
    "            move_files(_file_name, relative_file_path, 'done')\n",
    "        except:\n",
    "            print(f\"error processing: {_e_file_name}\")\n",
    "            time.sleep(5)\n",
    "            driver.refresh()\n",
    "            \n",
    "# add the files iteratively            \n",
    "add_files_iteratively(updated_file_list)\n",
    "\n",
    "# Close the webdriver instance\n",
    "driver.close()"
   ]
  },
  {
   "cell_type": "code",
   "execution_count": null,
   "id": "85b68f23-c51e-4df0-ac6a-08ac7ad386e0",
   "metadata": {},
   "outputs": [],
   "source": []
  }
 ],
 "metadata": {
  "kernelspec": {
   "display_name": "Python 3 (ipykernel)",
   "language": "python",
   "name": "python3"
  },
  "language_info": {
   "codemirror_mode": {
    "name": "ipython",
    "version": 3
   },
   "file_extension": ".py",
   "mimetype": "text/x-python",
   "name": "python",
   "nbconvert_exporter": "python",
   "pygments_lexer": "ipython3",
   "version": "3.9.7"
  }
 },
 "nbformat": 4,
 "nbformat_minor": 5
}
